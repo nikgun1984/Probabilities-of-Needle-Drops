{
 "cells": [
  {
   "cell_type": "code",
   "execution_count": 27,
   "metadata": {},
   "outputs": [
    {
     "name": "stdout",
     "output_type": "stream",
     "text": [
      "[0.25, 0.33, 0.5, 1.0]\n",
      "[0.15918843666666666, 0.21222865, 0.31830464, 0.63662013]\n",
      "Probability for 0.25 is 0.15918843666666666\n",
      "Probability for 0.33 is 0.21222865\n",
      "Probability for 0.5 is 0.31830464\n",
      "Probability for 1.0 is 0.63662013\n"
     ]
    }
   ],
   "source": [
    "import numpy as np\n",
    "from decimal import *\n",
    "\n",
    "def generate_drop(array):\n",
    "    d = np.random.uniform(0,distance_btw_lines/2)\n",
    "    theta = np.random.uniform(0, np.pi/2)\n",
    "    \n",
    "    if d < array/2*np.sin(theta):\n",
    "        return True\n",
    "    else:\n",
    "        return False\n",
    "\n",
    "def average(array,tosses,probability):\n",
    "    np.random.seed(0)\n",
    "    observed = np.zeros(tosses)\n",
    "    for i in range(tosses):\n",
    "        observed[i] = generate_drop(array)\n",
    "    probability.append(np.average(observed))\n",
    "\n",
    "distance_btw_lines = 1\n",
    "needle_length  = [1/4,1/3,1/2,1]\n",
    "tosses = 300000000\n",
    "probabilities = []\n",
    "\n",
    "for i in range(len(needle_length)):\n",
    "    average(needle_length[i],tosses,probabilities)\n",
    "\n",
    "my_formatted_list = [ float(Decimal(\"%.2f\" % e)) for e in needle_length ]\n",
    "print(my_formatted_list)\n",
    "print(probabilities)\n",
    "for i in range(len(my_formatted_list)):\n",
    "    print(\"Probability for \"+str(my_formatted_list[i])+\" is \"+str(probabilities[i]))"
   ]
  },
  {
   "cell_type": "code",
   "execution_count": null,
   "metadata": {},
   "outputs": [],
   "source": []
  },
  {
   "cell_type": "code",
   "execution_count": null,
   "metadata": {},
   "outputs": [],
   "source": []
  }
 ],
 "metadata": {
  "kernelspec": {
   "display_name": "Python 3",
   "language": "python",
   "name": "python3"
  },
  "language_info": {
   "codemirror_mode": {
    "name": "ipython",
    "version": 3
   },
   "file_extension": ".py",
   "mimetype": "text/x-python",
   "name": "python",
   "nbconvert_exporter": "python",
   "pygments_lexer": "ipython3",
   "version": "3.7.0"
  }
 },
 "nbformat": 4,
 "nbformat_minor": 2
}
